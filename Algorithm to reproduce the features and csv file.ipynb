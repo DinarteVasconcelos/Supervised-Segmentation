{
 "cells": [
  {
   "cell_type": "code",
   "execution_count": null,
   "metadata": {},
   "outputs": [],
   "source": [
    "import numpy\n",
    "import glob\n",
    "import csv\n",
    "from pyAudioAnalysis import audioFeatureExtraction as aF #Extract the features and species name\n",
    "\n",
    "[features, classNames, fileNames] = aF.dirsWavFeatureExtraction(['Folders ofeach species'], 0.3, 0.15, aT.shortTermWindow, aT.shortTermStep, compute-BEAT=False) #Deletion of files that have NaN features\n",
    "\n",
    "for f in features:\n",
    "    fTemp = []\n",
    "        for i in range(f.shape[0]):\n",
    "            temp = f[i,:]\n",
    "            if (not numpy.isnan(temp).any()) and (not numpy.isinf(temp).any()):\n",
    "                fTemp.append(temp.tolist())\n",
    "            else:\n",
    "                print 'NaN Found! Feature vector not used for training'\n",
    "        features2.append(numpy.array(fTemp))\n",
    "        features = features2\n",
    "\n",
    "print 'Number of species: ' + str(len(features))\n",
    "                    \n",
    "print 'Number of files of each species: '  + str(len(features[\"id of eachspecies\"]))\n",
    "                            \n",
    "        \n",
    "namFeatures = ['zero crossing rate',  'shortterm energy',  'shortterm en-tropy of energy', 'spectral centroid', 'spectral spread', 'spectral entropy','spectral  flux',  'spectral  rolloff',  'MFCCs_1',  'MFCCs_2',  'MFCCs_3','MFCCs_4', 'MFCCs_5', 'MFCCs_6', 'MFCCs_7', 'MFCCs_8', 'MFCCs_9','MFCCs_10', 'MFCCs_11', 'MFCCs_12', 'MFCCs_13', 'Chroma Vector_A','Chroma Vector_A#', 'Chroma Vector_B', 'Chroma Vector_C', 'Chroma Vec-tor_C#', 'Chroma Vector_D', 'Chroma Vector_D#', 'Chroma Vector_E','Chroma Vector_F', 'Chroma Vector_F#', 'Chroma Vector_G', 'Chroma Vec-tor_G#', 'Chroma Deviation']\n",
    "            \n",
    "#Print all the wave files\n",
    "print(glob.glob(\"Folders of each species/*.wav\"))\n",
    "#Creating csv file\n",
    "with open('Specie.csv', mode='w') as csv_file:\n",
    "        writer = csv.DictWriter(csv_file, fieldnames=namFeatures)\n",
    "        writer.writeheader()31:csv_writer  =  csv.writer(csv_file,  delimiter=',',  quotechar='\"', quoting=csv.QUOTE_MINIMAL)\n",
    "            \n",
    "        for i in range(34):\n",
    "            csv_writer.writerow(features[0][0:len(features[0]),i])"
   ]
  }
 ],
 "metadata": {
  "kernelspec": {
   "display_name": "Python 3",
   "language": "python",
   "name": "python3"
  },
  "language_info": {
   "codemirror_mode": {
    "name": "ipython",
    "version": 3
   },
   "file_extension": ".py",
   "mimetype": "text/x-python",
   "name": "python",
   "nbconvert_exporter": "python",
   "pygments_lexer": "ipython3",
   "version": "3.7.4"
  }
 },
 "nbformat": 4,
 "nbformat_minor": 2
}
