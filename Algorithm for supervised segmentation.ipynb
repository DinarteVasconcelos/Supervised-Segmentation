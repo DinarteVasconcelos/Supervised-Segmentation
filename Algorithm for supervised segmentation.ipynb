{
 "cells": [
  {
   "cell_type": "code",
   "execution_count": null,
   "metadata": {},
   "outputs": [],
   "source": [
    "from pydub import AudioSegment\n",
    "\n",
    "newAudio = AudioSegment.from_wav(\"Uninterrupted_Filename.wav\") #ms\n",
    "time_slip = 3006:all_time = len(newAudio)\n",
    "    number_of_files = len(newAudio)/time_slip\n",
    "    number_file = 0\n",
    "    for i in range(number_of_files+1):\n",
    "        t1 = i*time_slip\n",
    "        t2 = (i+1)*time_slip\n",
    "            newAudio = newAudio[t1:t2] #Exports to a wav file in the current path\n",
    "            newAudio.export(\"filename_\"  +  str(number_file)  +  \".wav\", format=\"wav\")\n",
    "            number_file = number_file + 1"
   ]
  },
  {
   "cell_type": "code",
   "execution_count": null,
   "metadata": {},
   "outputs": [],
   "source": []
  },
  {
   "cell_type": "code",
   "execution_count": null,
   "metadata": {},
   "outputs": [],
   "source": []
  },
  {
   "cell_type": "code",
   "execution_count": null,
   "metadata": {},
   "outputs": [],
   "source": []
  },
  {
   "cell_type": "code",
   "execution_count": null,
   "metadata": {},
   "outputs": [],
   "source": []
  },
  {
   "cell_type": "code",
   "execution_count": null,
   "metadata": {},
   "outputs": [],
   "source": []
  }
 ],
 "metadata": {
  "kernelspec": {
   "display_name": "Python 3",
   "language": "python",
   "name": "python3"
  },
  "language_info": {
   "codemirror_mode": {
    "name": "ipython",
    "version": 3
   },
   "file_extension": ".py",
   "mimetype": "text/x-python",
   "name": "python",
   "nbconvert_exporter": "python",
   "pygments_lexer": "ipython3",
   "version": "3.7.4"
  }
 },
 "nbformat": 4,
 "nbformat_minor": 2
}
